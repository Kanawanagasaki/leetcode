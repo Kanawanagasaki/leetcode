{
 "cells": [
  {
   "cell_type": "markdown",
   "metadata": {},
   "source": [
    "[859. Buddy Strings](https://leetcode.com/problems/buddy-strings/)"
   ]
  },
  {
   "cell_type": "code",
   "execution_count": null,
   "metadata": {
    "dotnet_interactive": {
     "language": "csharp"
    },
    "vscode": {
     "languageId": "dotnet-interactive.csharp"
    }
   },
   "outputs": [],
   "source": [
    "public class Solution\n",
    "{\n",
    "    public bool BuddyStrings(string s, string goal)\n",
    "    {\n",
    "        if(s.Length != goal.Length)\n",
    "            return false;\n",
    "        \n",
    "        var diff = new List<int>();\n",
    "        for(int i = 0; i < s.Length; i++)\n",
    "            if(s[i] != goal[i])\n",
    "                diff.Add(i);\n",
    "        \n",
    "        if(diff.Count == 0)\n",
    "        {\n",
    "            if(s == goal)\n",
    "            {\n",
    "                var uniqueCharactersS = new HashSet<char>(s);\n",
    "                return uniqueCharactersS.Count < s.Length;\n",
    "            }\n",
    "            else return false;\n",
    "        }\n",
    "        else if(diff.Count == 2)\n",
    "            return s[diff[0]] == goal[diff[1]] && s[diff[1]] == goal[diff[0]];\n",
    "        \n",
    "        return false;\n",
    "    }\n",
    "}\n"
   ]
  }
 ],
 "metadata": {
  "kernelspec": {
   "display_name": ".NET (C#)",
   "language": "C#",
   "name": ".net-csharp"
  },
  "language_info": {
   "file_extension": ".cs",
   "mimetype": "text/x-csharp",
   "name": "C#",
   "pygments_lexer": "csharp",
   "version": "9.0"
  },
  "orig_nbformat": 4
 },
 "nbformat": 4,
 "nbformat_minor": 2
}
