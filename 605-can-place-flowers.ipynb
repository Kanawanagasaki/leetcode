{
 "cells": [
  {
   "cell_type": "markdown",
   "metadata": {},
   "source": [
    "[605. Can Place Flowers](https://leetcode.com/problems/can-place-flowers/)"
   ]
  },
  {
   "cell_type": "code",
   "execution_count": null,
   "metadata": {},
   "outputs": [],
   "source": [
    "public class Solution {\n",
    "    public bool CanPlaceFlowers(int[] flowerbed, int n) {\n",
    "        if(n == 0) return true;\n",
    "        if(flowerbed.Length == 1) return flowerbed[0] == 0 && n == 1;\n",
    "        \n",
    "        for(int i = 0; i < flowerbed.Length && n > 0; i++)\n",
    "        {\n",
    "            if(flowerbed[i] == 0)\n",
    "            {\n",
    "                if(  (i == 0 && flowerbed[i + 1] == 0)\n",
    "                  || (i > 0 && i == flowerbed.Length - 1 && flowerbed[i - 1] == 0)\n",
    "                  || (i > 0 && i < flowerbed.Length - 1 && flowerbed[i - 1] == 0 && flowerbed[i + 1] == 0))\n",
    "                {\n",
    "                    n--;\n",
    "                    flowerbed[i] = 1;\n",
    "                }\n",
    "            }\n",
    "        }\n",
    "        \n",
    "        return n == 0;\n",
    "    }\n",
    "}\n"
   ]
  }
 ],
 "metadata": {
  "language_info": {
   "name": "csharp"
  },
  "orig_nbformat": 4
 },
 "nbformat": 4,
 "nbformat_minor": 2
}
