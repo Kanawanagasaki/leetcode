{
 "cells": [
  {
   "cell_type": "markdown",
   "metadata": {},
   "source": [
    "[1137. N-th Tribonacci Number](https://leetcode.com/problems/n-th-tribonacci-number/)"
   ]
  },
  {
   "cell_type": "code",
   "execution_count": null,
   "metadata": {},
   "outputs": [],
   "source": [
    "public class Solution\n",
    "{\n",
    "    public int Tribonacci(int n)\n",
    "    {\n",
    "        int[] buff = new int[38];\n",
    "        buff[0] = 0;\n",
    "        buff[1] = 1;\n",
    "        buff[2] = 1;\n",
    "        for(int i = 3; i <= n; i++)\n",
    "            buff[i] = buff[i - 3] + buff[i - 2] + buff[i - 1];\n",
    "        return buff[n];\n",
    "    }\n",
    "}\n"
   ]
  }
 ],
 "metadata": {
  "language_info": {
   "name": "csharp"
  },
  "orig_nbformat": 4
 },
 "nbformat": 4,
 "nbformat_minor": 2
}
