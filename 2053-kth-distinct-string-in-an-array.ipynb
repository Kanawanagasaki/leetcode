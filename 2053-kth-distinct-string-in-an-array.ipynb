{
 "cells": [
  {
   "cell_type": "markdown",
   "metadata": {},
   "source": [
    "[2053. Kth Distinct String in an Array](https://leetcode.com/problems/kth-distinct-string-in-an-array/)"
   ]
  },
  {
   "cell_type": "code",
   "execution_count": 2,
   "metadata": {
    "dotnet_interactive": {
     "language": "csharp"
    },
    "vscode": {
     "languageId": "dotnet-interactive.csharp"
    }
   },
   "outputs": [],
   "source": [
    "public class Solution\n",
    "{\n",
    "    public string KthDistinct(string[] arr, int k)\n",
    "    {\n",
    "        var list = arr.ToList();\n",
    "\n",
    "        for(int i = 0; i < list.Count; i++)\n",
    "        {\n",
    "            int index = list.IndexOf(list[i], i + 1);\n",
    "            if(index >= 0)\n",
    "            {\n",
    "                while(index >= 0)\n",
    "                {\n",
    "                    list.RemoveAt(index);\n",
    "                    index = list.IndexOf(list[i], i + 1);\n",
    "                }\n",
    "\n",
    "                list.RemoveAt(i);\n",
    "                i--;\n",
    "            }\n",
    "        }\n",
    "\n",
    "        return k > 0 && k - 1 < list.Count ? list[k - 1] : \"\";\n",
    "    }\n",
    "}"
   ]
  }
 ],
 "metadata": {
  "kernelspec": {
   "display_name": ".NET (C#)",
   "language": "C#",
   "name": ".net-csharp"
  },
  "language_info": {
   "file_extension": ".cs",
   "mimetype": "text/x-csharp",
   "name": "C#",
   "pygments_lexer": "csharp",
   "version": "9.0"
  },
  "orig_nbformat": 4
 },
 "nbformat": 4,
 "nbformat_minor": 2
}
