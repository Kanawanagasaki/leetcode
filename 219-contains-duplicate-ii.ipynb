{
 "cells": [
  {
   "cell_type": "markdown",
   "metadata": {},
   "source": [
    "[219. Contains Duplicate II](https://leetcode.com/problems/contains-duplicate-ii/)"
   ]
  },
  {
   "cell_type": "code",
   "execution_count": null,
   "metadata": {},
   "outputs": [],
   "source": [
    "public class Solution\n",
    "{\n",
    "    public bool ContainsNearbyDuplicate(int[] nums, int k)\n",
    "    {\n",
    "        var dict = new Dictionary<int, int>();\n",
    "        for(int i = 0; i < nums.Length; i++)\n",
    "        {\n",
    "            if(dict.ContainsKey(nums[i]) && i - dict[nums[i]] <= k)\n",
    "                return true;\n",
    "            dict[nums[i]] = i;\n",
    "        }\n",
    "        return false;\n",
    "    }\n",
    "}\n"
   ]
  }
 ],
 "metadata": {
  "language_info": {
   "name": "csharp"
  },
  "orig_nbformat": 4
 },
 "nbformat": 4,
 "nbformat_minor": 2
}
