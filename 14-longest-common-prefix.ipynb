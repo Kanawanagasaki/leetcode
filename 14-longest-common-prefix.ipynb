{
 "cells": [
  {
   "cell_type": "markdown",
   "metadata": {},
   "source": [
    "[14. Longest Common Prefix](https://leetcode.com/problems/longest-common-prefix/)"
   ]
  },
  {
   "cell_type": "code",
   "execution_count": null,
   "metadata": {
    "dotnet_interactive": {
     "language": "csharp"
    },
    "vscode": {
     "languageId": "dotnet-interactive.csharp"
    }
   },
   "outputs": [],
   "source": [
    "public class Solution {\n",
    "    public string LongestCommonPrefix(string[] strs) {\n",
    "        var prefix = strs[0];\n",
    "        foreach(var str in strs)\n",
    "        {\n",
    "            if(!str.StartsWith(prefix))\n",
    "            {\n",
    "                var res = \"\";\n",
    "                for(int i = 0; i < prefix.Length && i < str.Length; i++)\n",
    "                    if(prefix[i] == str[i])\n",
    "                        res += str[i];\n",
    "                    else break;\n",
    "                prefix = res;\n",
    "            }\n",
    "        }\n",
    "        return prefix;\n",
    "    }\n",
    "}"
   ]
  }
 ],
 "metadata": {
  "language_info": {
   "name": "csharp"
  },
  "orig_nbformat": 4
 },
 "nbformat": 4,
 "nbformat_minor": 2
}
