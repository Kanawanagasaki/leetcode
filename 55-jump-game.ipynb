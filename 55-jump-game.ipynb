{
 "cells": [
  {
   "cell_type": "markdown",
   "metadata": {},
   "source": [
    "[55. Jump Game](https://leetcode.com/problems/jump-game/)"
   ]
  },
  {
   "cell_type": "code",
   "execution_count": null,
   "metadata": {},
   "outputs": [],
   "source": [
    "public class Solution\n",
    "{\n",
    "    public bool CanJump(int[] nums)\n",
    "    {\n",
    "        bool[] buff = new bool[nums.Length];\n",
    "        buff[buff.Length - 1] = true;\n",
    "        for(int i = nums.Length - 2; i >= 0; i--)\n",
    "        {\n",
    "            bool can = false;\n",
    "            for(int j = 1; j <= nums[i] && i + j < nums.Length; j++)\n",
    "            {\n",
    "                if(buff[i + j])\n",
    "                {\n",
    "                    can = true;\n",
    "                    break;\n",
    "                }\n",
    "            }\n",
    "            buff[i] = can;\n",
    "        }\n",
    "        \n",
    "        return buff[0];\n",
    "    }\n",
    "}"
   ]
  }
 ],
 "metadata": {
  "language_info": {
   "name": "csharp"
  },
  "orig_nbformat": 4
 },
 "nbformat": 4,
 "nbformat_minor": 2
}
