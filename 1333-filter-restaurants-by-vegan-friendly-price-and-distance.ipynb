{
 "cells": [
  {
   "cell_type": "markdown",
   "metadata": {},
   "source": [
    "[1333. Filter Restaurants by Vegan-Friendly, Price and Distance](https://leetcode.com/problems/filter-restaurants-by-vegan-friendly-price-and-distance/)"
   ]
  },
  {
   "cell_type": "code",
   "execution_count": null,
   "metadata": {},
   "outputs": [],
   "source": [
    "public class Solution {\n",
    "    public IList<int> FilterRestaurants(int[][] restaurants, int veganFriendly, int maxPrice, int maxDistance)\n",
    "        => restaurants.Where(r => r[3] <= maxPrice && r[4] <= maxDistance && (veganFriendly == 0 || r[2] == 1))\n",
    "                      .OrderByDescending(r => r[1])\n",
    "                      .ThenByDescending(r => r[0])\n",
    "                      .Select(r => r[0])\n",
    "                      .ToList();\n",
    "}\n"
   ]
  }
 ],
 "metadata": {
  "language_info": {
   "name": "csharp"
  },
  "orig_nbformat": 4
 },
 "nbformat": 4,
 "nbformat_minor": 2
}
