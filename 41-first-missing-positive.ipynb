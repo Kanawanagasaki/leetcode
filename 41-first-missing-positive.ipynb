{
 "cells": [
  {
   "cell_type": "markdown",
   "metadata": {},
   "source": [
    "[41. First Missing Positive](https://leetcode.com/problems/first-missing-positive/)"
   ]
  },
  {
   "cell_type": "code",
   "execution_count": null,
   "metadata": {},
   "outputs": [],
   "source": [
    "public class Solution {\n",
    "    public int FirstMissingPositive(int[] nums) {\n",
    "        \n",
    "        var buff = new Dictionary<int, int>();\n",
    "        int res = 1;\n",
    "        \n",
    "        for(int i = 0; i < nums.Length; i++)\n",
    "        {\n",
    "            if(nums[i] < 1) continue;\n",
    "            buff[nums[i]] = i;\n",
    "            if(nums[i] == res) res++;\n",
    "        }\n",
    "        \n",
    "        while(buff.ContainsKey(res)) res++;\n",
    "        \n",
    "        return res;\n",
    "    }\n",
    "}"
   ]
  }
 ],
 "metadata": {
  "language_info": {
   "name": "csharp"
  },
  "orig_nbformat": 4
 },
 "nbformat": 4,
 "nbformat_minor": 2
}
