{
 "cells": [
  {
   "cell_type": "markdown",
   "metadata": {},
   "source": [
    "[2315. Count Asterisks](https://leetcode.com/problems/count-asterisks/)"
   ]
  },
  {
   "cell_type": "code",
   "execution_count": null,
   "metadata": {},
   "outputs": [],
   "source": [
    "public class Solution\n",
    "{\n",
    "    public int CountAsterisks(string s)\n",
    "    {\n",
    "        int res = 0;\n",
    "        bool flag = true;\n",
    "        foreach(var ch in s)\n",
    "        {\n",
    "            if(ch == '*' && flag)\n",
    "                res++;\n",
    "            if(ch == '|')\n",
    "                flag = !flag;\n",
    "        }\n",
    "        return res;\n",
    "    }\n",
    "}"
   ]
  }
 ],
 "metadata": {
  "language_info": {
   "name": "csharp"
  },
  "orig_nbformat": 4
 },
 "nbformat": 4,
 "nbformat_minor": 2
}
