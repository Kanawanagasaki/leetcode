{
 "cells": [
  {
   "cell_type": "markdown",
   "metadata": {},
   "source": [
    "[167. Two Sum II - Input Array Is Sorted](https://leetcode.com/problems/two-sum-ii-input-array-is-sorted/)"
   ]
  },
  {
   "cell_type": "code",
   "execution_count": null,
   "metadata": {
    "dotnet_interactive": {
     "language": "csharp"
    },
    "vscode": {
     "languageId": "dotnet-interactive.csharp"
    }
   },
   "outputs": [],
   "source": [
    "public class Solution\n",
    "{\n",
    "    public int[] TwoSum(int[] numbers, int target)\n",
    "    {\n",
    "        int[] ret = new int[2];\n",
    "        \n",
    "        int i = 0;\n",
    "        int j = numbers.Length - 1;\n",
    "        \n",
    "        while(i < j)\n",
    "        {\n",
    "            int summ = numbers[i] + numbers[j];\n",
    "            \n",
    "            if(summ == target)\n",
    "            {\n",
    "                ret[0] = i+1;\n",
    "                ret[1] = j+1;\n",
    "                break;\n",
    "            }\n",
    "            else if(summ > target) j--;\n",
    "            else i++;\n",
    "        }\n",
    "        \n",
    "        return ret;\n",
    "    }\n",
    "}"
   ]
  }
 ],
 "metadata": {
  "kernelspec": {
   "display_name": ".NET (C#)",
   "language": "C#",
   "name": ".net-csharp"
  },
  "language_info": {
   "file_extension": ".cs",
   "mimetype": "text/x-csharp",
   "name": "C#",
   "pygments_lexer": "csharp",
   "version": "9.0"
  },
  "orig_nbformat": 4
 },
 "nbformat": 4,
 "nbformat_minor": 2
}
