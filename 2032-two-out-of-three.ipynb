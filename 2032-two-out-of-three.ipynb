{
 "cells": [
  {
   "cell_type": "markdown",
   "metadata": {},
   "source": [
    "[2032. Two Out of Three](https://leetcode.com/problems/two-out-of-three/)"
   ]
  },
  {
   "cell_type": "code",
   "execution_count": 1,
   "metadata": {
    "dotnet_interactive": {
     "language": "csharp"
    },
    "vscode": {
     "languageId": "dotnet-interactive.csharp"
    }
   },
   "outputs": [],
   "source": [
    "public class Solution\n",
    "{\n",
    "    public IList<int> TwoOutOfThree(int[] nums1, int[] nums2, int[] nums3)\n",
    "    {\n",
    "        var intersect1 = nums1.Intersect(nums2);\n",
    "        var intersect2 = nums2.Intersect(nums3);\n",
    "        var intersect3 = nums3.Intersect(nums1);\n",
    "\n",
    "        var set = new HashSet<int>();\n",
    "        foreach(var el in intersect1.Concat(intersect2.Concat(intersect3)))\n",
    "            set.Add(el);\n",
    "        return set.ToList();\n",
    "    }\n",
    "}"
   ]
  }
 ],
 "metadata": {
  "kernelspec": {
   "display_name": ".NET (C#)",
   "language": "C#",
   "name": ".net-csharp"
  },
  "language_info": {
   "file_extension": ".cs",
   "mimetype": "text/x-csharp",
   "name": "C#",
   "pygments_lexer": "csharp",
   "version": "9.0"
  },
  "orig_nbformat": 4
 },
 "nbformat": 4,
 "nbformat_minor": 2
}
