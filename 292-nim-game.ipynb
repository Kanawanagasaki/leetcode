{
 "cells": [
  {
   "cell_type": "markdown",
   "metadata": {},
   "source": [
    "[292. Nim Game](https://leetcode.com/problems/nim-game/)"
   ]
  },
  {
   "cell_type": "code",
   "execution_count": null,
   "metadata": {},
   "outputs": [],
   "source": [
    "public class Solution {\n",
    "    public bool CanWinNim(int n)\n",
    "        => n % 4 > 0;\n",
    "}"
   ]
  }
 ],
 "metadata": {
  "language_info": {
   "name": "csharp"
  },
  "orig_nbformat": 4
 },
 "nbformat": 4,
 "nbformat_minor": 2
}
