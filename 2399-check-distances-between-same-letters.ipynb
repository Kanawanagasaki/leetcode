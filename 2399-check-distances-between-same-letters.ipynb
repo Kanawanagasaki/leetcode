{
 "cells": [
  {
   "cell_type": "markdown",
   "metadata": {},
   "source": [
    "[2399. Check Distances Between Same Letters](https://leetcode.com/problems/check-distances-between-same-letters/)"
   ]
  },
  {
   "cell_type": "code",
   "execution_count": null,
   "metadata": {
    "dotnet_interactive": {
     "language": "csharp"
    },
    "vscode": {
     "languageId": "dotnet-interactive.csharp"
    }
   },
   "outputs": [],
   "source": [
    "public class Solution\n",
    "{\n",
    "    public bool CheckDistances(string s, int[] distance)\n",
    "    {\n",
    "        // Create an array of type nullable int of size 26 filled with nulls\n",
    "        var actualDistance = Enumerable.Repeat<int?>(null, 26).ToArray();\n",
    "        \n",
    "        for(int i = 0; i < s.Length; i++)\n",
    "        {\n",
    "            var code = (int)(s[i] - 'a');\n",
    "            if(actualDistance[code] is null)\n",
    "                actualDistance[code] = i;\n",
    "            else actualDistance[code] = i - actualDistance[code] - 1;\n",
    "        }\n",
    "        \n",
    "        for(int i = 0; i < 26; i++)\n",
    "            if(actualDistance[i] is not null && actualDistance[i] != distance[i])\n",
    "                return false;\n",
    "        return true;\n",
    "    }\n",
    "}\n"
   ]
  }
 ],
 "metadata": {
  "kernelspec": {
   "display_name": ".NET (C#)",
   "language": "C#",
   "name": ".net-csharp"
  },
  "language_info": {
   "file_extension": ".cs",
   "mimetype": "text/x-csharp",
   "name": "C#",
   "pygments_lexer": "csharp",
   "version": "9.0"
  },
  "orig_nbformat": 4
 },
 "nbformat": 4,
 "nbformat_minor": 2
}
