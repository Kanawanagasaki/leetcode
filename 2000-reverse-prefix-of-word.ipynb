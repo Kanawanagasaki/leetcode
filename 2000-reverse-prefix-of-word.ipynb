{
 "cells": [
  {
   "cell_type": "markdown",
   "metadata": {},
   "source": [
    "[2000. Reverse Prefix of Word](https://leetcode.com/problems/reverse-prefix-of-word/)"
   ]
  },
  {
   "cell_type": "code",
   "execution_count": null,
   "metadata": {},
   "outputs": [],
   "source": [
    "public class Solution\n",
    "{\n",
    "    public string ReversePrefix(string word, char ch)\n",
    "        => string.Join(\"\", word.Substring(0, word.IndexOf(ch) + 1).Reverse()) + word.Substring(word.IndexOf(ch) + 1);\n",
    "}"
   ]
  }
 ],
 "metadata": {
  "language_info": {
   "name": "csharp"
  },
  "orig_nbformat": 4
 },
 "nbformat": 4,
 "nbformat_minor": 2
}
