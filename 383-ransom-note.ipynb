{
 "cells": [
  {
   "cell_type": "markdown",
   "metadata": {},
   "source": [
    "[383. Ransom Note](https://leetcode.com/problems/ransom-note/)"
   ]
  },
  {
   "cell_type": "code",
   "execution_count": null,
   "metadata": {},
   "outputs": [],
   "source": [
    "public class Solution\n",
    "{\n",
    "    public bool CanConstruct(string ransomNote, string magazine)\n",
    "    {\n",
    "        var a = new Dictionary<char, int>();\n",
    "        foreach(var ch in ransomNote)\n",
    "            if(a.ContainsKey(ch))\n",
    "                a[ch]++;\n",
    "            else a[ch] = 1;\n",
    "        \n",
    "        var b = new Dictionary<char, int>();\n",
    "        foreach(var ch in magazine)\n",
    "            if(b.ContainsKey(ch))\n",
    "                b[ch]++;\n",
    "            else b[ch] = 1;\n",
    "\n",
    "        foreach(var kv in a)\n",
    "            if(!(b.ContainsKey(kv.Key) && b[kv.Key] >= kv.Value))\n",
    "                return false;\n",
    "        return true;\n",
    "    }\n",
    "}"
   ]
  }
 ],
 "metadata": {
  "language_info": {
   "name": "csharp"
  },
  "orig_nbformat": 4
 },
 "nbformat": 4,
 "nbformat_minor": 2
}
