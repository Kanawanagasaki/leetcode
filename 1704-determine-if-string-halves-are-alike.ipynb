{
 "cells": [
  {
   "cell_type": "markdown",
   "metadata": {},
   "source": [
    "[1704. Determine if String Halves Are Alike](https://leetcode.com/problems/determine-if-string-halves-are-alike/)"
   ]
  },
  {
   "cell_type": "code",
   "execution_count": null,
   "metadata": {
    "dotnet_interactive": {
     "language": "csharp"
    },
    "vscode": {
     "languageId": "dotnet-interactive.csharp"
    }
   },
   "outputs": [],
   "source": [
    "public class Solution\n",
    "{\n",
    "    public bool HalvesAreAlike(string s)\n",
    "    {\n",
    "        var vowels = \"aeiouAEIOU\";\n",
    "        int num = 0;\n",
    "        for(int i = 0; i < s.Length; i++)\n",
    "        {\n",
    "            if(!vowels.Contains(s[i]))\n",
    "                continue;\n",
    "            if(i < s.Length / 2) num++;\n",
    "            else num--;\n",
    "        }\n",
    "        return num == 0;\n",
    "    }\n",
    "}"
   ]
  }
 ],
 "metadata": {
  "language_info": {
   "name": "csharp"
  },
  "orig_nbformat": 4
 },
 "nbformat": 4,
 "nbformat_minor": 2
}
