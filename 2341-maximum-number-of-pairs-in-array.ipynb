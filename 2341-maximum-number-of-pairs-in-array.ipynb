{
 "cells": [
  {
   "cell_type": "markdown",
   "metadata": {},
   "source": [
    "[2341. Maximum Number of Pairs in Array](https://leetcode.com/problems/maximum-number-of-pairs-in-array/)"
   ]
  },
  {
   "cell_type": "code",
   "execution_count": null,
   "metadata": {
    "dotnet_interactive": {
     "language": "csharp"
    },
    "vscode": {
     "languageId": "dotnet-interactive.csharp"
    }
   },
   "outputs": [],
   "source": [
    "public class Solution\n",
    "{\n",
    "    public int[] NumberOfPairs(int[] nums)\n",
    "    {\n",
    "        var map = new Dictionary<int, int>();\n",
    "        foreach(var num in nums)\n",
    "            if(map.ContainsKey(num))\n",
    "                map[num]++;\n",
    "            else map[num] = 1;\n",
    "        int pairsAmount = 0;\n",
    "        int leftovers = 0;\n",
    "        foreach(var kv in map)\n",
    "        {\n",
    "            int pairs = (int)Math.Floor(kv.Value / 2d);\n",
    "            pairsAmount += pairs;\n",
    "            leftovers += kv.Value - pairs * 2;\n",
    "        }\n",
    "        return new[] { pairsAmount, leftovers };\n",
    "    }\n",
    "}"
   ]
  }
 ],
 "metadata": {
  "language_info": {
   "name": "csharp"
  },
  "orig_nbformat": 4
 },
 "nbformat": 4,
 "nbformat_minor": 2
}
