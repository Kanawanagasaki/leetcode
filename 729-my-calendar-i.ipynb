{
 "cells": [
  {
   "cell_type": "markdown",
   "metadata": {},
   "source": [
    "[729. My Calendar I](https://leetcode.com/problems/my-calendar-i/)"
   ]
  },
  {
   "cell_type": "code",
   "execution_count": null,
   "metadata": {},
   "outputs": [],
   "source": [
    "public class MyCalendar\n",
    "{\n",
    "    private List<(int start, int end)> _list = new();\n",
    "    \n",
    "    public bool Book(int start, int end)\n",
    "    {\n",
    "        if(_list.Count == 0)\n",
    "        {\n",
    "            _list.Add((start, end));\n",
    "            return true;\n",
    "        }\n",
    "        \n",
    "        int left = 0;\n",
    "        int right = _list.Count;\n",
    "        while(left != right)\n",
    "        {\n",
    "            int index = left + (right - left) / 2;\n",
    "            if(end <= _list[index].start)\n",
    "                right = index;\n",
    "            else if(start >= _list[index].end)\n",
    "                left = index + 1;\n",
    "            else\n",
    "                return false;\n",
    "        }\n",
    "        \n",
    "        _list.Insert(left, (start, end));\n",
    "        return true;\n",
    "    }\n",
    "}\n"
   ]
  }
 ],
 "metadata": {
  "language_info": {
   "name": "csharp"
  },
  "orig_nbformat": 4
 },
 "nbformat": 4,
 "nbformat_minor": 2
}
