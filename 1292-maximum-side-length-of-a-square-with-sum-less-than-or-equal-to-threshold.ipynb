{
 "cells": [
  {
   "cell_type": "markdown",
   "metadata": {},
   "source": [
    "[1292. Maximum Side Length of a Square with Sum Less than or Equal to Threshold](https://leetcode.com/problems/maximum-side-length-of-a-square-with-sum-less-than-or-equal-to-threshold/)"
   ]
  },
  {
   "cell_type": "code",
   "execution_count": null,
   "metadata": {},
   "outputs": [],
   "source": [
    "public class Solution\n",
    "{\n",
    "    public int MaxSideLength(int[][] mat, int threshold)\n",
    "    {\n",
    "        int ret = 0;\n",
    "        \n",
    "        for(int iy = 0; iy < mat.Length; iy++)\n",
    "        {\n",
    "            for(int ix = 0; ix < mat[iy].Length; ix++)\n",
    "            {\n",
    "                if(ix > 0) mat[iy][ix] += mat[iy][ix - 1];\n",
    "                if(iy > 0) mat[iy][ix] += mat[iy - 1][ix];\n",
    "                if(ix > 0 && iy > 0) mat[iy][ix] -= mat[iy - 1][ix - 1];\n",
    "            }\n",
    "        }\n",
    "        \n",
    "\n",
    "        var square = (int x0, int y0, int x1, int y1) =>\n",
    "        {\n",
    "            int ret = mat[y1][x1];\n",
    "            if(x0 > 0) ret -= mat[y1][x0 - 1];\n",
    "            if(y0 > 0) ret -= mat[y0 - 1][x1];\n",
    "            if(x0 > 0 && y0 > 0) ret += mat[y0 - 1][x0 - 1];\n",
    "            return ret;\n",
    "        };\n",
    "        \n",
    "        for(int iy = 0; iy < mat.Length; iy++)\n",
    "        {\n",
    "            for(int ix = 0; ix < mat[iy].Length; ix++)\n",
    "            {\n",
    "                int left = 0;\n",
    "                int right = Math.Min(mat.Length - iy, mat[iy].Length - ix) - 1;\n",
    "                int found = 0;\n",
    "\n",
    "                while(left <= right)\n",
    "                {\n",
    "                    int size = (left + right) / 2;\n",
    "                    int sum = square(ix, iy, ix + size, iy + size);\n",
    "                    if(sum < threshold)\n",
    "                    {\n",
    "                        left = size + 1;\n",
    "                        found = size;\n",
    "                    }\n",
    "                    else if(sum > threshold)\n",
    "                        right = size - 1;\n",
    "                    else\n",
    "                    {\n",
    "                        found = size;\n",
    "                        break;\n",
    "                    }\n",
    "                }\n",
    "                \n",
    "                if(ret < found + 1 && square(ix, iy, ix + found, iy + found) <= threshold)\n",
    "                    ret = found + 1;\n",
    "            }\n",
    "        }\n",
    "\n",
    "        return ret;\n",
    "    }\n",
    "}\n"
   ]
  }
 ],
 "metadata": {
  "language_info": {
   "name": "csharp"
  },
  "orig_nbformat": 4
 },
 "nbformat": 4,
 "nbformat_minor": 2
}
