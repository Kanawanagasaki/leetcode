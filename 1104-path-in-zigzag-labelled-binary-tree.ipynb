{
 "cells": [
  {
   "cell_type": "markdown",
   "metadata": {},
   "source": [
    "[1104. Path In Zigzag Labelled Binary Tree](https://leetcode.com/problems/path-in-zigzag-labelled-binary-tree/)"
   ]
  },
  {
   "cell_type": "code",
   "execution_count": 24,
   "metadata": {
    "dotnet_interactive": {
     "language": "csharp"
    },
    "vscode": {
     "languageId": "dotnet-interactive.csharp"
    }
   },
   "outputs": [],
   "source": [
    "public class Solution\n",
    "{\n",
    "    public IList<int> PathInZigZagTree(int label)\n",
    "    {\n",
    "        var ret = new List<int>() { label };\n",
    "\n",
    "        while(label > 1)\n",
    "        {\n",
    "            label /= 2;\n",
    "\n",
    "            int shift = (int)Math.Log2(label);\n",
    "            int left = 1 << shift;\n",
    "            int right = (1 << shift + 1) - 1;\n",
    "            label = left + (right - label);\n",
    "\n",
    "            ret.Add(label);\n",
    "        }\n",
    "\n",
    "        ret.Reverse();\n",
    "\n",
    "        return ret;\n",
    "    }\n",
    "}"
   ]
  },
  {
   "cell_type": "code",
   "execution_count": 25,
   "metadata": {
    "dotnet_interactive": {
     "language": "csharp"
    },
    "vscode": {
     "languageId": "dotnet-interactive.csharp"
    }
   },
   "outputs": [
    {
     "name": "stdout",
     "output_type": "stream",
     "text": [
      "Output:   1,3,4,14\r\n",
      "Expected: 1,3,4,14\r\n",
      "\r\n",
      "Output:   1,2,6,10,26\r\n",
      "Expected: 1,2,6,10,26\r\n",
      "\r\n"
     ]
    }
   ],
   "source": [
    "var tests = new (string input, string output)[]\n",
    "{\n",
    "    (\"14\",\"[1,3,4,14]\"),\n",
    "    (\"26\",\"[1,2,6,10,26]\")\n",
    "};\n",
    "\n",
    "foreach(var test in tests)\n",
    "{\n",
    "    var input = System.Text.Json.JsonSerializer.Deserialize<int>(test.input);\n",
    "    var solution = new Solution();\n",
    "    var res = solution.PathInZigZagTree(input);\n",
    "    Console.WriteLine(\"Output:   \" + string.Join(\",\", res));\n",
    "\n",
    "    var output = System.Text.Json.JsonSerializer.Deserialize<IList<int>>(test.output);\n",
    "    Console.WriteLine(\"Expected: \" + string.Join(\",\", output));\n",
    "\n",
    "    bool foundDifference = res.Count != output.Count;\n",
    "    for(int i = 0; i < res.Count && i < output.Count; i++)\n",
    "        if(res[i] != output[i])\n",
    "            foundDifference = true;\n",
    "    if(foundDifference)\n",
    "        Console.WriteLine(\">>> TEST FAILED <<<\");\n",
    "    Console.WriteLine();\n",
    "}"
   ]
  }
 ],
 "metadata": {
  "kernelspec": {
   "display_name": ".NET (C#)",
   "language": "C#",
   "name": ".net-csharp"
  },
  "language_info": {
   "file_extension": ".cs",
   "mimetype": "text/x-csharp",
   "name": "C#",
   "pygments_lexer": "csharp",
   "version": "9.0"
  },
  "orig_nbformat": 4
 },
 "nbformat": 4,
 "nbformat_minor": 2
}
