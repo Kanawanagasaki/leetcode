{
 "cells": [
  {
   "cell_type": "markdown",
   "metadata": {},
   "source": [
    "### This notebook contains useful code snippets that we can copy and paste to speed up the process of solving problems"
   ]
  },
  {
   "cell_type": "markdown",
   "metadata": {},
   "source": [
    "##### Example of parsing binary tree input"
   ]
  },
  {
   "cell_type": "code",
   "execution_count": null,
   "metadata": {
    "dotnet_interactive": {
     "language": "csharp"
    },
    "vscode": {
     "languageId": "dotnet-interactive.csharp"
    }
   },
   "outputs": [],
   "source": [
    "var tests = new (string input, string output)[]\n",
    "{\n",
    "    (\"[3,9,20,null,null,15,7]\",\"[[3],[9,20],[15,7]]\"),\n",
    "    (\"[1]\",\"[[1]]\"),\n",
    "    (\"[]\",\"[]\"),\n",
    "    (\"[1,2,null,3,4,5,6,null,7,null,null,null,null,8,9]\",\"[[1],[2],[3,4],[5,6,7],[8,9]]\"),\n",
    "    (\"[3,9,20,null,null,15,7,1,2,3,4,5,6,7,8,9,0,1,2,3,4,5,6,7,8,9,0]\", \"[[3],[9,20],[15,7],[1,2,3,4],[5,6,7,8,9,0,1,2],[3,4,5,6,7,8,9,0]]\"),\n",
    "    (\n",
    "        \"[1,2,3,4,5,6,7,8,9,10,11,12,13,14,15,16,17,18,19,20,21,22,23,24,25,26,27,28,29,30,31,32,33,34,35,36,37,38,39,40]\",\n",
    "        \"[[1],[2,3],[4,5,6,7],[8,9,10,11,12,13,14,15],[16,17,18,19,20,21,22,23,24,25,26,27,28,29,30,31],[32,33,34,35,36,37,38,39,40]]\"\n",
    "    )\n",
    "};\n",
    "\n",
    "foreach(var test in tests)\n",
    "{\n",
    "    var input = System.Text.Json.JsonSerializer.Deserialize<int?[]>(test.input);\n",
    "    var nodes = input.Select(x => x is null ? null : new TreeNode(x.Value)).ToArray();\n",
    "    var ptr1 = 0;\n",
    "    var ptr2 = 1;\n",
    "    while(ptr1 < nodes.Length && ptr2 < nodes.Length)\n",
    "    {\n",
    "        if(nodes[ptr1] is null)\n",
    "        {\n",
    "            ptr1++;\n",
    "            continue;\n",
    "        }\n",
    "\n",
    "        if(ptr2 < nodes.Length && nodes[ptr2] is not null)\n",
    "            nodes[ptr1].left = nodes[ptr2];\n",
    "        ptr2++;\n",
    "        if(ptr2 < nodes.Length && nodes[ptr2] is not null)\n",
    "            nodes[ptr1].right = nodes[ptr2];\n",
    "        ptr2++;\n",
    "        \n",
    "        ptr1++;\n",
    "    }\n",
    "\n",
    "    var solution = new Solution();\n",
    "    var res = solution.LevelOrder(nodes.Length == 0 ? null : nodes[0]);\n",
    "    Console.WriteLine(\"Output:   \" + string.Join(\",\", res.Select(x => \"[\"+string.Join(\",\", x)+\"]\")));\n",
    "\n",
    "    var output = System.Text.Json.JsonSerializer.Deserialize<IList<IList<int>>>(test.output);\n",
    "    Console.WriteLine(\"Expected: \" + string.Join(\",\", output.Select(x => \"[\"+string.Join(\",\", x)+\"]\")));\n",
    "\n",
    "    bool foundDifference = res.Count != output.Count;\n",
    "    for(int i = 0; i < res.Count && i < output.Count; i++)\n",
    "    {\n",
    "        if(res[i].Count != output[i].Count)\n",
    "            foundDifference = true;\n",
    "        for(int j = 0; j < res[i].Count && j < output[i].Count; j++)\n",
    "            if(res[i][j] != output[i][j])\n",
    "                foundDifference = true;\n",
    "    }\n",
    "    if(foundDifference)\n",
    "        Console.WriteLine(\">>> TEST FAILED <<<\");\n",
    "    Console.WriteLine();\n",
    "}"
   ]
  }
 ],
 "metadata": {
  "language_info": {
   "name": "csharp"
  },
  "orig_nbformat": 4
 },
 "nbformat": 4,
 "nbformat_minor": 2
}
