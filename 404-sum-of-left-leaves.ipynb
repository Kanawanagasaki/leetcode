{
 "cells": [
  {
   "cell_type": "markdown",
   "metadata": {},
   "source": [
    "[404. Sum of Left Leaves](https://leetcode.com/problems/sum-of-left-leaves/)"
   ]
  },
  {
   "cell_type": "code",
   "execution_count": null,
   "metadata": {},
   "outputs": [],
   "source": [
    "public class Solution\n",
    "{\n",
    "    public int SumOfLeftLeaves(TreeNode root, bool isLeft = false)\n",
    "    {\n",
    "        if(isLeft && root.left is null && root.right is null)\n",
    "            return root.val;\n",
    "        \n",
    "        int ret = 0;\n",
    "        if(root.left is not null)\n",
    "            ret += SumOfLeftLeaves(root.left, true);\n",
    "        if(root.right is not null)\n",
    "            ret += SumOfLeftLeaves(root.right, false);\n",
    "        \n",
    "        return ret;\n",
    "    }\n",
    "}\n",
    "\n",
    "/**\n",
    " * Definition for a binary tree node.\n",
    " * public class TreeNode {\n",
    " *     public int val;\n",
    " *     public TreeNode left;\n",
    " *     public TreeNode right;\n",
    " *     public TreeNode(int val=0, TreeNode left=null, TreeNode right=null) {\n",
    " *         this.val = val;\n",
    " *         this.left = left;\n",
    " *         this.right = right;\n",
    " *     }\n",
    " * }\n",
    " */\n"
   ]
  }
 ],
 "metadata": {
  "language_info": {
   "name": "csharp"
  },
  "orig_nbformat": 4
 },
 "nbformat": 4,
 "nbformat_minor": 2
}
