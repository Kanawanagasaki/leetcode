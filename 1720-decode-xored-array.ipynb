{
 "cells": [
  {
   "cell_type": "markdown",
   "metadata": {},
   "source": [
    "[1720. Decode XORed Array](https://leetcode.com/problems/decode-xored-array/)"
   ]
  },
  {
   "cell_type": "code",
   "execution_count": null,
   "metadata": {},
   "outputs": [],
   "source": [
    "public class Solution {\n",
    "    public int[] Decode(int[] encoded, int first) {\n",
    "        var list = new List<int> { first };\n",
    "        for(int i = 0; i < encoded.Length; i++)\n",
    "            list.Add(list[i] ^ encoded[i]);\n",
    "        return list.ToArray();\n",
    "    }\n",
    "}"
   ]
  }
 ],
 "metadata": {
  "language_info": {
   "name": "csharp"
  },
  "orig_nbformat": 4
 },
 "nbformat": 4,
 "nbformat_minor": 2
}
