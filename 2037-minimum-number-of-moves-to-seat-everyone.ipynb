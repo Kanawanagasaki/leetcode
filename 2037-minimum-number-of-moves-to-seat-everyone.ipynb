{
 "cells": [
  {
   "cell_type": "markdown",
   "metadata": {},
   "source": [
    "[2037. Minimum Number of Moves to Seat Everyone](https://leetcode.com/problems/minimum-number-of-moves-to-seat-everyone/)"
   ]
  },
  {
   "cell_type": "code",
   "execution_count": null,
   "metadata": {},
   "outputs": [],
   "source": [
    "public class Solution\n",
    "{\n",
    "    public int MinMovesToSeat(int[] seats, int[] students)\n",
    "    {\n",
    "        Array.Sort(seats);\n",
    "        Array.Sort(students);\n",
    "        \n",
    "        int moves = 0;\n",
    "        for(int i = 0; i < seats.Length && i < students.Length; i++)\n",
    "            moves += Math.Abs(seats[i] - students[i]);\n",
    "        \n",
    "        return moves;\n",
    "    }\n",
    "}"
   ]
  }
 ],
 "metadata": {
  "language_info": {
   "name": "csharp"
  },
  "orig_nbformat": 4
 },
 "nbformat": 4,
 "nbformat_minor": 2
}
