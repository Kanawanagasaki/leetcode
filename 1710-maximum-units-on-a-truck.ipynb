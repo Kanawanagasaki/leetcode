{
 "cells": [
  {
   "cell_type": "markdown",
   "metadata": {},
   "source": [
    "[1710. Maximum Units on a Truck](https://leetcode.com/problems/maximum-units-on-a-truck/)"
   ]
  },
  {
   "cell_type": "code",
   "execution_count": null,
   "metadata": {},
   "outputs": [],
   "source": [
    "public class Solution {\n",
    "    public int MaximumUnits(int[][] boxTypes, int truckSize) {\n",
    "        \n",
    "        var sorted = boxTypes.OrderByDescending(b => b[1]).ToArray();\n",
    "        \n",
    "        int res = 0;\n",
    "        for(int i = 0; i < sorted.Length && truckSize > 0; i++)\n",
    "        {\n",
    "            if(sorted[i][0] <= truckSize)\n",
    "            {\n",
    "                truckSize -= sorted[i][0];\n",
    "                res += sorted[i][0] * sorted[i][1];\n",
    "            }\n",
    "            else\n",
    "            {\n",
    "                res += truckSize * sorted[i][1];\n",
    "                truckSize = 0;\n",
    "            }\n",
    "        }\n",
    "        return res;\n",
    "    }\n",
    "}"
   ]
  }
 ],
 "metadata": {
  "language_info": {
   "name": "csharp"
  },
  "orig_nbformat": 4
 },
 "nbformat": 4,
 "nbformat_minor": 2
}
