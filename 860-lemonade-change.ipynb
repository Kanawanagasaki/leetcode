{
 "cells": [
  {
   "cell_type": "markdown",
   "metadata": {},
   "source": [
    "[860. Lemonade Change](https://leetcode.com/problems/lemonade-change/)"
   ]
  },
  {
   "cell_type": "code",
   "execution_count": null,
   "metadata": {
    "dotnet_interactive": {
     "language": "csharp"
    },
    "vscode": {
     "languageId": "dotnet-interactive.csharp"
    }
   },
   "outputs": [],
   "source": [
    "public class Solution {\n",
    "    public bool LemonadeChange(int[] bills) {\n",
    "        var list = bills.ToList();\n",
    "        for(int i = 0; i < list.Count; i++)\n",
    "        {\n",
    "            int left = list[i] - 5;\n",
    "            if(left == 0) continue;\n",
    "            \n",
    "            while(left > 0)\n",
    "            {\n",
    "                int max = -1;\n",
    "                int index = -1;\n",
    "\n",
    "                for(int j = 0; j < i; j++)\n",
    "                    if(max < list[j] && list[j] <= left)\n",
    "                    {\n",
    "                        max = list[j];\n",
    "                        index = j;\n",
    "                    }\n",
    "                \n",
    "                if(index < 0) break;\n",
    "                \n",
    "                left -= list[index];\n",
    "                list.RemoveAt(index);\n",
    "                i--;\n",
    "            }\n",
    "            \n",
    "            if(left > 0) return false;\n",
    "        }\n",
    "        return true;\n",
    "    }\n",
    "}\n"
   ]
  }
 ],
 "metadata": {
  "language_info": {
   "name": "csharp"
  },
  "orig_nbformat": 4
 },
 "nbformat": 4,
 "nbformat_minor": 2
}
