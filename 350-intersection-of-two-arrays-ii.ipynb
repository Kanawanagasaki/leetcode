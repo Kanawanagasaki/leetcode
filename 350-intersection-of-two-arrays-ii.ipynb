{
 "cells": [
  {
   "cell_type": "markdown",
   "metadata": {},
   "source": [
    "[350. Intersection of Two Arrays II](https://leetcode.com/problems/intersection-of-two-arrays-ii/)"
   ]
  },
  {
   "cell_type": "code",
   "execution_count": 12,
   "metadata": {
    "dotnet_interactive": {
     "language": "csharp"
    },
    "vscode": {
     "languageId": "dotnet-interactive.csharp"
    }
   },
   "outputs": [],
   "source": [
    "public class Solution\n",
    "{\n",
    "    public int[] Intersect(int[] nums1, int[] nums2)\n",
    "    {\n",
    "        var a = nums1.ToList();\n",
    "        var b = nums2.ToList();\n",
    "\n",
    "        var ret = new List<int>();\n",
    "\n",
    "        for(int i = 0; i < a.Count; i++)\n",
    "        {\n",
    "            for(int j = 0; j < b.Count; j++)\n",
    "            {\n",
    "                if(i < 0 || j < 0)\n",
    "                    break;\n",
    "                if(a[i] == b[j])\n",
    "                {\n",
    "                    ret.Add(a[i]);\n",
    "                    a.RemoveAt(i--);\n",
    "                    b.RemoveAt(j--);\n",
    "                }\n",
    "            }\n",
    "        }\n",
    "\n",
    "        return ret.ToArray();\n",
    "    }\n",
    "}"
   ]
  }
 ],
 "metadata": {
  "kernelspec": {
   "display_name": ".NET (C#)",
   "language": "C#",
   "name": ".net-csharp"
  },
  "language_info": {
   "file_extension": ".cs",
   "mimetype": "text/x-csharp",
   "name": "C#",
   "pygments_lexer": "csharp",
   "version": "9.0"
  },
  "orig_nbformat": 4
 },
 "nbformat": 4,
 "nbformat_minor": 2
}
