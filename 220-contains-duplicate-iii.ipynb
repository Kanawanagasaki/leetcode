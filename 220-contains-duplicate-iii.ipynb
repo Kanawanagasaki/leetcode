{
 "cells": [
  {
   "cell_type": "markdown",
   "metadata": {},
   "source": [
    "[220. Contains Duplicate III](https://leetcode.com/problems/contains-duplicate-iii/)"
   ]
  },
  {
   "cell_type": "code",
   "execution_count": null,
   "metadata": {
    "dotnet_interactive": {
     "language": "csharp"
    },
    "vscode": {
     "languageId": "dotnet-interactive.csharp"
    }
   },
   "outputs": [],
   "source": [
    "public class Solution\n",
    "{\n",
    "    public bool ContainsNearbyAlmostDuplicate(int[] nums, int indexDiff, int valueDiff)\n",
    "    {\n",
    "        var dict = new SortedDictionary<int, List<int>>();\n",
    "        for(int i = 0; i < nums.Length; i++)\n",
    "            if(dict.ContainsKey(nums[i]))\n",
    "                dict[nums[i]].Add(i);\n",
    "            else dict[nums[i]] = new() { i };\n",
    "        \n",
    "        var arr = dict.ToArray();\n",
    "        int left = 0;\n",
    "        int right = 0;\n",
    "        while(left < arr.Length && right < arr.Length)\n",
    "        {\n",
    "            if(arr[right].Key - arr[left].Key > valueDiff)\n",
    "            {\n",
    "                left++;\n",
    "                right = left;\n",
    "            }\n",
    "            \n",
    "            for(int i = 0; i < arr[left].Value.Count; i++)\n",
    "            {\n",
    "                for(int j = 0; j < arr[right].Value.Count; j++)\n",
    "                {\n",
    "                    if(arr[left].Value[i] == arr[right].Value[j])\n",
    "                        continue;\n",
    "                    if(Math.Abs(arr[left].Value[i] - arr[right].Value[j]) <= indexDiff)\n",
    "                        return true;\n",
    "                }\n",
    "            }\n",
    "            \n",
    "            right++;\n",
    "        }\n",
    "        \n",
    "        return false;\n",
    "    }\n",
    "}"
   ]
  }
 ],
 "metadata": {
  "kernelspec": {
   "display_name": ".NET (C#)",
   "language": "C#",
   "name": ".net-csharp"
  },
  "language_info": {
   "file_extension": ".cs",
   "mimetype": "text/x-csharp",
   "name": "C#",
   "pygments_lexer": "csharp",
   "version": "9.0"
  },
  "orig_nbformat": 4
 },
 "nbformat": 4,
 "nbformat_minor": 2
}
