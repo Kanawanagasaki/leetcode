{
 "cells": [
  {
   "cell_type": "markdown",
   "metadata": {},
   "source": [
    "[101. Symmetric Tree](https://leetcode.com/problems/symmetric-tree/)"
   ]
  },
  {
   "cell_type": "code",
   "execution_count": null,
   "metadata": {
    "dotnet_interactive": {
     "language": "csharp"
    },
    "vscode": {
     "languageId": "dotnet-interactive.csharp"
    }
   },
   "outputs": [],
   "source": [
    "public class Solution\n",
    "{\n",
    "    public bool IsSymmetric(TreeNode root)\n",
    "        => Func(root.left, root.right);\n",
    "    \n",
    "    private bool Func(TreeNode left, TreeNode right)\n",
    "    {\n",
    "        if(left is null && right is not null)\n",
    "            return false;\n",
    "        if(left is not null && right is null)\n",
    "            return false;\n",
    "        if(left is null && right is null)\n",
    "            return true;\n",
    "        if(left.val != right.val)\n",
    "            return false;\n",
    "        if(left.left is not null && right.right is null)\n",
    "            return false;\n",
    "        if(left.left is null && right.right is not null)\n",
    "            return false;\n",
    "        if(left.right is not null && right.left is null)\n",
    "            return false;\n",
    "        if(left.right is null && right.left is not null)\n",
    "            return false;\n",
    "        \n",
    "        var ret = true;\n",
    "        if(left.left is not null && right.right is not null)\n",
    "            ret &= Func(left.left, right.right);\n",
    "        if(left.right is not null && right.left is not null)\n",
    "            ret &= Func(left.right, right.left);\n",
    "        return ret;\n",
    "    }\n",
    "}\n"
   ]
  }
 ],
 "metadata": {
  "kernelspec": {
   "display_name": ".NET (C#)",
   "language": "C#",
   "name": ".net-csharp"
  },
  "language_info": {
   "file_extension": ".cs",
   "mimetype": "text/x-csharp",
   "name": "C#",
   "pygments_lexer": "csharp",
   "version": "9.0"
  },
  "orig_nbformat": 4
 },
 "nbformat": 4,
 "nbformat_minor": 2
}
