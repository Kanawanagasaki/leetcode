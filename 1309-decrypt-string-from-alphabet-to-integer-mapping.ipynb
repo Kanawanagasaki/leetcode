{
 "cells": [
  {
   "cell_type": "markdown",
   "metadata": {},
   "source": [
    "[1309. Decrypt String from Alphabet to Integer Mapping](https://leetcode.com/problems/decrypt-string-from-alphabet-to-integer-mapping/)"
   ]
  },
  {
   "cell_type": "code",
   "execution_count": null,
   "metadata": {},
   "outputs": [],
   "source": [
    "public class Solution\n",
    "{\n",
    "    public string FreqAlphabets(string s)\n",
    "    {\n",
    "        var split = s.Split(\"#\");\n",
    "        var res = new List<char>();\n",
    "        for(int i = 0; i < split.Length; i++)\n",
    "            for(int j = 0; j < split[i].Length; j++)\n",
    "                if(j < split[i].Length - 2 || i == split.Length - 1)\n",
    "                    res.Add((char)(48 + split[i][j]));\n",
    "                else if(j == split[i].Length - 2)\n",
    "                    res.Add((char)(96 + int.Parse(\"\" + split[i][j] + split[i][j + 1])));\n",
    "        \n",
    "        return string.Join(\"\", res);\n",
    "    }\n",
    "}"
   ]
  }
 ],
 "metadata": {
  "language_info": {
   "name": "csharp"
  },
  "orig_nbformat": 4
 },
 "nbformat": 4,
 "nbformat_minor": 2
}
