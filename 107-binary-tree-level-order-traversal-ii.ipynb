{
 "cells": [
  {
   "cell_type": "markdown",
   "metadata": {},
   "source": [
    "[107. Binary Tree Level Order Traversal II](https://leetcode.com/problems/binary-tree-level-order-traversal-ii/)"
   ]
  },
  {
   "cell_type": "code",
   "execution_count": 11,
   "metadata": {
    "dotnet_interactive": {
     "language": "csharp"
    },
    "vscode": {
     "languageId": "dotnet-interactive.csharp"
    }
   },
   "outputs": [],
   "source": [
    "public class TreeNode {\n",
    "    public int val;\n",
    "    public TreeNode left;\n",
    "    public TreeNode right;\n",
    "    public TreeNode(int val=0, TreeNode left=null, TreeNode right=null) {\n",
    "        this.val = val;\n",
    "        this.left = left;\n",
    "        this.right = right;\n",
    "    }\n",
    "}"
   ]
  },
  {
   "cell_type": "code",
   "execution_count": 12,
   "metadata": {
    "dotnet_interactive": {
     "language": "csharp"
    },
    "vscode": {
     "languageId": "dotnet-interactive.csharp"
    }
   },
   "outputs": [],
   "source": [
    "public class Solution\n",
    "{\n",
    "    public IList<IList<int>> LevelOrderBottom(TreeNode root)\n",
    "    {\n",
    "        var ret = new List<IList<int>>();\n",
    "\n",
    "        if(root is null)\n",
    "            return ret;\n",
    "\n",
    "        Action<TreeNode, int> recursion = null;\n",
    "        recursion = (node, depth) =>\n",
    "        {\n",
    "            while(ret.Count <= depth)\n",
    "                ret.Add(new List<int>());\n",
    "            ret[depth].Add(node.val);\n",
    "            if(node.left is not null)\n",
    "                recursion(node.left, depth + 1);\n",
    "            if(node.right is not null)\n",
    "                recursion(node.right, depth + 1);\n",
    "        };\n",
    "        \n",
    "        recursion(root, 0);\n",
    "        \n",
    "        ret.Reverse();\n",
    "\n",
    "        return ret;\n",
    "    }\n",
    "}"
   ]
  },
  {
   "cell_type": "code",
   "execution_count": 13,
   "metadata": {
    "dotnet_interactive": {
     "language": "csharp"
    },
    "vscode": {
     "languageId": "dotnet-interactive.csharp"
    }
   },
   "outputs": [
    {
     "name": "stdout",
     "output_type": "stream",
     "text": [
      "Output:   [15,7],[9,20],[3]\r\n",
      "Expected: [15,7],[9,20],[3]\r\n",
      "\r\n",
      "Output:   [1]\r\n",
      "Expected: [1]\r\n",
      "\r\n",
      "Output:   \r\n",
      "Expected: \r\n",
      "\r\n"
     ]
    }
   ],
   "source": [
    "var tests = new (string input, string output)[]\n",
    "{\n",
    "    (\"[3,9,20,null,null,15,7]\",\"[[15,7],[9,20],[3]]\"),\n",
    "    (\"[1]\",\"[[1]]\"),\n",
    "    (\"[]\",\"[]\")\n",
    "};\n",
    "\n",
    "foreach(var test in tests)\n",
    "{\n",
    "    var input = System.Text.Json.JsonSerializer.Deserialize<int?[]>(test.input);\n",
    "    var nodes = input.Select(x => x is null ? null : new TreeNode(x.Value)).ToArray();\n",
    "    var ptr1 = 0;\n",
    "    var ptr2 = 1;\n",
    "    while(ptr1 < nodes.Length && ptr2 < nodes.Length)\n",
    "    {\n",
    "        if(nodes[ptr1] is null)\n",
    "        {\n",
    "            ptr1++;\n",
    "            continue;\n",
    "        }\n",
    "\n",
    "        if(ptr2 < nodes.Length && nodes[ptr2] is not null)\n",
    "            nodes[ptr1].left = nodes[ptr2];\n",
    "        ptr2++;\n",
    "        if(ptr2 < nodes.Length && nodes[ptr2] is not null)\n",
    "            nodes[ptr1].right = nodes[ptr2];\n",
    "        ptr2++;\n",
    "        \n",
    "        ptr1++;\n",
    "    }\n",
    "\n",
    "    var solution = new Solution();\n",
    "    var res = solution.LevelOrderBottom(nodes.Length == 0 ? null : nodes[0]);\n",
    "    Console.WriteLine(\"Output:   \" + string.Join(\",\", res.Select(x => \"[\"+string.Join(\",\", x)+\"]\")));\n",
    "\n",
    "    var output = System.Text.Json.JsonSerializer.Deserialize<IList<IList<int>>>(test.output);\n",
    "    Console.WriteLine(\"Expected: \" + string.Join(\",\", output.Select(x => \"[\"+string.Join(\",\", x)+\"]\")));\n",
    "\n",
    "    bool foundDifference = res.Count != output.Count;\n",
    "    for(int i = 0; i < res.Count && i < output.Count; i++)\n",
    "    {\n",
    "        if(res[i].Count != output[i].Count)\n",
    "            foundDifference = true;\n",
    "        for(int j = 0; j < res[i].Count && j < output[i].Count; j++)\n",
    "            if(res[i][j] != output[i][j])\n",
    "                foundDifference = true;\n",
    "    }\n",
    "    if(foundDifference)\n",
    "        Console.WriteLine(\">>> TEST FAILED <<<\");\n",
    "    Console.WriteLine();\n",
    "}"
   ]
  }
 ],
 "metadata": {
  "kernelspec": {
   "display_name": ".NET (C#)",
   "language": "C#",
   "name": ".net-csharp"
  },
  "language_info": {
   "file_extension": ".cs",
   "mimetype": "text/x-csharp",
   "name": "C#",
   "pygments_lexer": "csharp",
   "version": "9.0"
  },
  "orig_nbformat": 4
 },
 "nbformat": 4,
 "nbformat_minor": 2
}
