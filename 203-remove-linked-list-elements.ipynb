{
 "cells": [
  {
   "cell_type": "markdown",
   "metadata": {},
   "source": [
    "[203. Remove Linked List Elements](https://leetcode.com/problems/remove-linked-list-elements/)"
   ]
  },
  {
   "cell_type": "code",
   "execution_count": null,
   "metadata": {},
   "outputs": [],
   "source": [
    "/**\n",
    " * Definition for singly-linked list.\n",
    " * public class ListNode {\n",
    " *     public int val;\n",
    " *     public ListNode next;\n",
    " *     public ListNode(int val=0, ListNode next=null) {\n",
    " *         this.val = val;\n",
    " *         this.next = next;\n",
    " *     }\n",
    " * }\n",
    " */\n",
    "public class Solution {\n",
    "    public ListNode RemoveElements(ListNode head, int val)\n",
    "    {\n",
    "        if(head == null) return null;\n",
    "        ListNode firstGood = null;\n",
    "        ListNode lastGood = null;\n",
    "        \n",
    "        while(head != null)\n",
    "        {\n",
    "            if(head.val != val)\n",
    "            {\n",
    "                if(firstGood == null) firstGood = head;\n",
    "                if(lastGood == null) lastGood = head;\n",
    "                else\n",
    "                {\n",
    "                    lastGood.next = head;\n",
    "                    lastGood = head;\n",
    "                }\n",
    "            }\n",
    "            head = head.next;\n",
    "        }\n",
    "        \n",
    "        if(lastGood != null && lastGood.next != null)\n",
    "            lastGood.next = null;\n",
    "        \n",
    "        return firstGood;\n",
    "    }\n",
    "}"
   ]
  }
 ],
 "metadata": {
  "language_info": {
   "name": "csharp"
  },
  "orig_nbformat": 4
 },
 "nbformat": 4,
 "nbformat_minor": 2
}
