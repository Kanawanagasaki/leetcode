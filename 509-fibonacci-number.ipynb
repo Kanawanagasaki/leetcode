{
 "cells": [
  {
   "cell_type": "markdown",
   "metadata": {},
   "source": [
    "[509. Fibonacci Number](https://leetcode.com/problems/fibonacci-number/)"
   ]
  },
  {
   "cell_type": "code",
   "execution_count": null,
   "metadata": {},
   "outputs": [],
   "source": [
    "public class Solution {\n",
    "    public int Fib(int n) => n <= 1 ? n : Fib(n - 1) + Fib(n - 2);\n",
    "}"
   ]
  }
 ],
 "metadata": {
  "language_info": {
   "name": "csharp"
  },
  "orig_nbformat": 4
 },
 "nbformat": 4,
 "nbformat_minor": 2
}
