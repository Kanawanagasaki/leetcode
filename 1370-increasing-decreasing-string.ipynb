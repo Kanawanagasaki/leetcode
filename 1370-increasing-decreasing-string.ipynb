{
 "cells": [
  {
   "cell_type": "markdown",
   "metadata": {},
   "source": [
    "[1370. Increasing Decreasing String](https://leetcode.com/problems/increasing-decreasing-string/)"
   ]
  },
  {
   "cell_type": "code",
   "execution_count": null,
   "metadata": {},
   "outputs": [],
   "source": [
    "public class Solution\n",
    "{\n",
    "    public string SortString(string s)\n",
    "    {\n",
    "        var map = new SortedDictionary<char, int>();\n",
    "        foreach(var ch in s)\n",
    "        {\n",
    "            if(map.ContainsKey(ch))\n",
    "                map[ch]++;\n",
    "            else map[ch] = 1;\n",
    "        }\n",
    "        \n",
    "        var isReverse = false;\n",
    "        \n",
    "        var res = new List<char>();\n",
    "        while(map.Count > 0)\n",
    "        {\n",
    "            char[] keys;\n",
    "            \n",
    "            if(isReverse) keys = map.Keys.Reverse().ToArray();\n",
    "            else keys = map.Keys.ToArray();\n",
    "            \n",
    "            foreach(var key in keys)\n",
    "            {\n",
    "                res.Add(key);\n",
    "                map[key]--;\n",
    "                if(map[key] <= 0)\n",
    "                    map.Remove(key);\n",
    "            }\n",
    "            \n",
    "            isReverse = !isReverse;\n",
    "        }\n",
    "        \n",
    "        return new string(res.ToArray());\n",
    "    }\n",
    "}\n"
   ]
  }
 ],
 "metadata": {
  "language_info": {
   "name": "csharp"
  },
  "orig_nbformat": 4
 },
 "nbformat": 4,
 "nbformat_minor": 2
}
