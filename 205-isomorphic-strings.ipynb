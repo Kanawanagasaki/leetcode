{
 "cells": [
  {
   "cell_type": "markdown",
   "metadata": {},
   "source": [
    "[205. Isomorphic Strings](https://leetcode.com/problems/isomorphic-strings/)"
   ]
  },
  {
   "cell_type": "code",
   "execution_count": null,
   "metadata": {},
   "outputs": [],
   "source": [
    "public class Solution\n",
    "{\n",
    "    public bool IsIsomorphic(string s, string t)\n",
    "    {\n",
    "        var buff1 = new Dictionary<char, char>();\n",
    "        var buff2 = new Dictionary<char, char>();\n",
    "\n",
    "        for(int i = 0; i < s.Length; i++)\n",
    "        {\n",
    "            char a = s[i], b = t[i];\n",
    "\n",
    "            if(!buff1.ContainsKey(a))\n",
    "                buff1[a] = b;\n",
    "            else if(buff1[a] != b)\n",
    "                return false;\n",
    "            \n",
    "            if(!buff2.ContainsKey(b))\n",
    "                buff2[b] = a;\n",
    "            else if(buff2[b] != a)\n",
    "                return false;\n",
    "        }\n",
    "        return true;\n",
    "    }\n",
    "}"
   ]
  }
 ],
 "metadata": {
  "language_info": {
   "name": "csharp"
  },
  "orig_nbformat": 4
 },
 "nbformat": 4,
 "nbformat_minor": 2
}
