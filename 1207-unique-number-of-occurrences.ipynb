{
 "cells": [
  {
   "cell_type": "markdown",
   "metadata": {},
   "source": [
    "[1207. Unique Number of Occurrences](https://leetcode.com/problems/unique-number-of-occurrences/)"
   ]
  },
  {
   "cell_type": "code",
   "execution_count": null,
   "metadata": {
    "dotnet_interactive": {
     "language": "csharp"
    },
    "vscode": {
     "languageId": "dotnet-interactive.csharp"
    }
   },
   "outputs": [],
   "source": [
    "public class Solution\n",
    "{\n",
    "    public bool UniqueOccurrences(int[] arr)\n",
    "    {\n",
    "        var map = new Dictionary<int, int>();\n",
    "        foreach(var num in arr)\n",
    "            if(map.ContainsKey(num))\n",
    "                map[num]++;\n",
    "            else map[num] = 1;\n",
    "        return map.Count == new HashSet<int>(map.Values).Count;\n",
    "    }\n",
    "}"
   ]
  }
 ],
 "metadata": {
  "language_info": {
   "name": "csharp"
  },
  "orig_nbformat": 4
 },
 "nbformat": 4,
 "nbformat_minor": 2
}
