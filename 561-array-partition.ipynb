{
 "cells": [
  {
   "cell_type": "markdown",
   "metadata": {},
   "source": [
    "[561. Array Partition](https://leetcode.com/problems/array-partition/)"
   ]
  },
  {
   "cell_type": "code",
   "execution_count": null,
   "metadata": {
    "dotnet_interactive": {
     "language": "csharp"
    },
    "vscode": {
     "languageId": "dotnet-interactive.csharp"
    }
   },
   "outputs": [],
   "source": [
    "public class Solution {\n",
    "    public int ArrayPairSum(int[] nums) {\n",
    "        var sorted = nums.OrderBy(n => n).ToArray();\n",
    "        int res = 0;\n",
    "        for(int i = 0; i < sorted.Length; i+=2)\n",
    "            res += Math.Min(sorted[i], sorted[i + 1]);\n",
    "        return res;\n",
    "    }\n",
    "}"
   ]
  }
 ],
 "metadata": {
  "language_info": {
   "name": "csharp"
  },
  "orig_nbformat": 4
 },
 "nbformat": 4,
 "nbformat_minor": 2
}
