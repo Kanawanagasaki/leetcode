{
 "cells": [
  {
   "cell_type": "markdown",
   "metadata": {},
   "source": [
    "[1476. Subrectangle Queries](https://leetcode.com/problems/subrectangle-queries/)"
   ]
  },
  {
   "cell_type": "code",
   "execution_count": null,
   "metadata": {
    "dotnet_interactive": {
     "language": "csharp"
    },
    "vscode": {
     "languageId": "dotnet-interactive.csharp"
    }
   },
   "outputs": [],
   "source": [
    "public class SubrectangleQueries\n",
    "{\n",
    "    private int[][] _rect;\n",
    "\n",
    "    public SubrectangleQueries(int[][] rectangle)\n",
    "        => _rect = rectangle;\n",
    "    \n",
    "    public void UpdateSubrectangle(int row1, int col1, int row2, int col2, int newValue)\n",
    "    {\n",
    "        for(int iy = row1; iy <= row2; iy++)\n",
    "            for(int ix = col1; ix <= col2; ix++)\n",
    "                _rect[iy][ix] = newValue;\n",
    "    }\n",
    "    \n",
    "    public int GetValue(int row, int col)\n",
    "        => _rect[row][col];\n",
    "}\n"
   ]
  }
 ],
 "metadata": {
  "kernelspec": {
   "display_name": ".NET (C#)",
   "language": "C#",
   "name": ".net-csharp"
  },
  "language_info": {
   "file_extension": ".cs",
   "mimetype": "text/x-csharp",
   "name": "C#",
   "pygments_lexer": "csharp",
   "version": "9.0"
  },
  "orig_nbformat": 4
 },
 "nbformat": 4,
 "nbformat_minor": 2
}
