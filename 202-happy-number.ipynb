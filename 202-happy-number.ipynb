{
 "cells": [
  {
   "cell_type": "markdown",
   "metadata": {},
   "source": [
    "[202. Happy Number](https://leetcode.com/problems/happy-number/)"
   ]
  },
  {
   "cell_type": "code",
   "execution_count": null,
   "metadata": {},
   "outputs": [],
   "source": [
    "using System.Collections.Generic;\n",
    "\n",
    "public class Solution\n",
    "{\n",
    "    public bool IsHappy(int n)\n",
    "    {\n",
    "       List<int> buff = new List<int>();\n",
    "        \n",
    "        while(true)\n",
    "        {\n",
    "            int summ = 0;\n",
    "            while(n > 0)\n",
    "            {\n",
    "                int num = n%10;\n",
    "                summ += num*num;\n",
    "                n = n / 10;\n",
    "            }\n",
    "            \n",
    "            if(summ == 1) return true;\n",
    "            else if(buff.Contains(summ)) return false;\n",
    "            else\n",
    "            {\n",
    "                n = summ;\n",
    "                buff.Add(n);\n",
    "            }\n",
    "        }\n",
    "        \n",
    "        return false;\n",
    "    }\n",
    "}"
   ]
  }
 ],
 "metadata": {
  "language_info": {
   "name": "csharp"
  },
  "orig_nbformat": 4
 },
 "nbformat": 4,
 "nbformat_minor": 2
}
