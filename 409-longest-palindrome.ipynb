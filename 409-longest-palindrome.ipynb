{
 "cells": [
  {
   "cell_type": "markdown",
   "metadata": {},
   "source": [
    "[409. Longest Palindrome](https://leetcode.com/problems/longest-palindrome/submissions/)"
   ]
  },
  {
   "cell_type": "code",
   "execution_count": 1,
   "metadata": {
    "dotnet_interactive": {
     "language": "csharp"
    },
    "vscode": {
     "languageId": "dotnet-interactive.csharp"
    }
   },
   "outputs": [],
   "source": [
    "public class Solution\n",
    "{\n",
    "    public int LongestPalindrome(string s)\n",
    "    {\n",
    "        var map = new Dictionary<char, int>();\n",
    "        foreach(var ch in s)\n",
    "            if(map.ContainsKey(ch))\n",
    "                map[ch]++;\n",
    "            else map[ch] = 1;\n",
    "\n",
    "        int len = 0;\n",
    "        bool oddFlag = false;\n",
    "\n",
    "        foreach(var kv in map)\n",
    "        {\n",
    "            if(kv.Value % 2 == 1)\n",
    "            {\n",
    "                if(!oddFlag)\n",
    "                {\n",
    "                    oddFlag = true;\n",
    "                    len += kv.Value;\n",
    "                }\n",
    "                else len += kv.Value - 1;\n",
    "            }\n",
    "            else len += kv.Value;\n",
    "        }\n",
    "\n",
    "        return len;\n",
    "    }\n",
    "}"
   ]
  }
 ],
 "metadata": {
  "kernelspec": {
   "display_name": ".NET (C#)",
   "language": "C#",
   "name": ".net-csharp"
  },
  "language_info": {
   "file_extension": ".cs",
   "mimetype": "text/x-csharp",
   "name": "C#",
   "pygments_lexer": "csharp",
   "version": "9.0"
  },
  "orig_nbformat": 4
 },
 "nbformat": 4,
 "nbformat_minor": 2
}
