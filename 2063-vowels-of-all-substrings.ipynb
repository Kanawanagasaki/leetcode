{
 "cells": [
  {
   "cell_type": "markdown",
   "metadata": {},
   "source": [
    "[2063. Vowels of All Substrings](https://leetcode.com/problems/vowels-of-all-substrings/)"
   ]
  },
  {
   "cell_type": "code",
   "execution_count": null,
   "metadata": {},
   "outputs": [],
   "source": [
    "public class Solution\n",
    "{\n",
    "    public long CountVowels(string word)\n",
    "    {\n",
    "        var vowels = new[] { 'a', 'e', 'i', 'o', 'u' };\n",
    "        var res = 0L;\n",
    "        for(long i = 0; i < word.Length; i++)\n",
    "            if(vowels.Contains(word[(int)i]))\n",
    "                res += (word.Length - i) * (i + 1);\n",
    "        \n",
    "        return res;\n",
    "    }\n",
    "}\n"
   ]
  }
 ],
 "metadata": {
  "language_info": {
   "name": "csharp"
  },
  "orig_nbformat": 4
 },
 "nbformat": 4,
 "nbformat_minor": 2
}
