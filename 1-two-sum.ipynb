{
 "cells": [
  {
   "cell_type": "markdown",
   "metadata": {},
   "source": [
    "[1. Two Sum](https://leetcode.com/problems/two-sum/)"
   ]
  },
  {
   "cell_type": "code",
   "execution_count": null,
   "metadata": {
    "dotnet_interactive": {
     "language": "csharp"
    },
    "vscode": {
     "languageId": "dotnet-interactive.csharp"
    }
   },
   "outputs": [],
   "source": [
    "public class Solution\n",
    "{\n",
    "    public int[] TwoSum(int[] nums, int target)\n",
    "    {\n",
    "        var map = new Dictionary<int,int>();\n",
    "        for(int i = 0; i < nums.Length; i++)\n",
    "        {\n",
    "            int b = target - nums[i];\n",
    "            if(map.ContainsKey(b))\n",
    "                return new[] { map[b], i };\n",
    "            map[nums[i]] = i;\n",
    "        }\n",
    "        return new int[0];\n",
    "    }\n",
    "}"
   ]
  }
 ],
 "metadata": {
  "language_info": {
   "name": "csharp"
  },
  "orig_nbformat": 4
 },
 "nbformat": 4,
 "nbformat_minor": 2
}
