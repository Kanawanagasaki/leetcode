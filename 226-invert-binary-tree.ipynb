{
 "cells": [
  {
   "cell_type": "markdown",
   "metadata": {},
   "source": [
    "[226. Invert Binary Tree](https://leetcode.com/problems/invert-binary-tree/)"
   ]
  },
  {
   "cell_type": "code",
   "execution_count": null,
   "metadata": {},
   "outputs": [],
   "source": [
    "public class Solution\n",
    "{\n",
    "    public TreeNode InvertTree(TreeNode root)\n",
    "    {\n",
    "        if(root is null) return null;\n",
    "        (root.left, root.right) = (root.right, root.left);\n",
    "        InvertTree(root.left);\n",
    "        InvertTree(root.right);\n",
    "        return root;\n",
    "    }\n",
    "}"
   ]
  }
 ],
 "metadata": {
  "language_info": {
   "name": "csharp"
  },
  "orig_nbformat": 4
 },
 "nbformat": 4,
 "nbformat_minor": 2
}
