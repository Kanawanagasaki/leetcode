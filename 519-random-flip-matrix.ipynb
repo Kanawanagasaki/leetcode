{
 "cells": [
  {
   "cell_type": "markdown",
   "metadata": {},
   "source": [
    "[519. Random Flip Matrix](https://leetcode.com/problems/random-flip-matrix/)"
   ]
  },
  {
   "cell_type": "code",
   "execution_count": null,
   "metadata": {},
   "outputs": [],
   "source": [
    "public class Solution\n",
    "{\n",
    "    private int _w;\n",
    "    private int _h;\n",
    "    private int _index = 0;\n",
    "\n",
    "    public Solution(int m, int n)\n",
    "    {\n",
    "        _w = m;\n",
    "        _h = n;\n",
    "        Reset();\n",
    "    }\n",
    "    \n",
    "    public int[] Flip()\n",
    "    {\n",
    "        var ret = new[]\n",
    "        {\n",
    "            _index % _w,\n",
    "            _index / _w\n",
    "        };\n",
    "        _index++;\n",
    "        _index %= _w * _h;\n",
    "        return ret;\n",
    "    }\n",
    "    \n",
    "    public void Reset() {}\n",
    "}\n"
   ]
  }
 ],
 "metadata": {
  "language_info": {
   "name": "csharp"
  },
  "orig_nbformat": 4
 },
 "nbformat": 4,
 "nbformat_minor": 2
}
