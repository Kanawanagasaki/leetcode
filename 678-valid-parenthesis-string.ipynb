{
 "cells": [
  {
   "cell_type": "markdown",
   "metadata": {},
   "source": [
    "[678. Valid Parenthesis String](https://leetcode.com/problems/valid-parenthesis-string/)"
   ]
  },
  {
   "cell_type": "code",
   "execution_count": null,
   "metadata": {},
   "outputs": [],
   "source": [
    "public class Solution\n",
    "{\n",
    "    public bool CheckValidString(string s)\n",
    "    {\n",
    "        int a = 0;\n",
    "        int b = 0;\n",
    "        foreach(var ch in s)\n",
    "        {\n",
    "            if(ch == '(') a++;\n",
    "            else if(ch == ')')\n",
    "            {\n",
    "                if(a > 0) a--;\n",
    "                else if(b > 0) b--;\n",
    "                else return false;\n",
    "            }\n",
    "            else if(ch == '*') b++;\n",
    "        }\n",
    "        \n",
    "        a = 0;\n",
    "        b = 0;\n",
    "        foreach(var ch in s.Reverse())\n",
    "        {\n",
    "            if(ch == ')') a++;\n",
    "            else if(ch == '(')\n",
    "            {\n",
    "                if(a > 0) a--;\n",
    "                else if(b > 0) b--;\n",
    "                else return false;\n",
    "            }\n",
    "            else if(ch == '*') b++;\n",
    "        }\n",
    "        \n",
    "        return true;\n",
    "    }\n",
    "}\n"
   ]
  }
 ],
 "metadata": {
  "language_info": {
   "name": "csharp"
  },
  "orig_nbformat": 4
 },
 "nbformat": 4,
 "nbformat_minor": 2
}
