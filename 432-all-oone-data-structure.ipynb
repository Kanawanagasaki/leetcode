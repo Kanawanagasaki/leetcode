{
 "cells": [
  {
   "cell_type": "markdown",
   "metadata": {},
   "source": [
    "[432. All O`one Data Structure](https://leetcode.com/problems/all-oone-data-structure/)"
   ]
  },
  {
   "cell_type": "code",
   "execution_count": null,
   "metadata": {
    "dotnet_interactive": {
     "language": "csharp"
    },
    "vscode": {
     "languageId": "dotnet-interactive.csharp"
    }
   },
   "outputs": [],
   "source": [
    "public class AllOne\n",
    "{\n",
    "    private Dictionary<string, int> _dict = new();\n",
    "    private string _minKey = \"\";\n",
    "    private string _maxKey = \"\";\n",
    "\n",
    "    public AllOne() { }\n",
    "    \n",
    "    public void Inc(string key)\n",
    "    {\n",
    "        if(_dict.ContainsKey(key))\n",
    "            _dict[key]++;\n",
    "        else _dict[key] = 1;\n",
    "\n",
    "        if(!_dict.ContainsKey(_minKey) || _dict[key] < _dict[_minKey])\n",
    "            _minKey = key;\n",
    "        if(!_dict.ContainsKey(_maxKey) || _dict[_maxKey] < _dict[key])\n",
    "            _maxKey = key;\n",
    "    }\n",
    "    \n",
    "    public void Dec(string key)\n",
    "    {\n",
    "        _dict[key]--;\n",
    "        if(_dict[key] <= 0)\n",
    "            _dict.Remove(key);\n",
    "    }\n",
    "    \n",
    "    public string GetMaxKey()\n",
    "    {\n",
    "        \n",
    "    }\n",
    "    \n",
    "    public string GetMinKey()\n",
    "    {\n",
    "        \n",
    "    }\n",
    "}"
   ]
  }
 ],
 "metadata": {
  "language_info": {
   "name": "csharp"
  },
  "orig_nbformat": 4
 },
 "nbformat": 4,
 "nbformat_minor": 2
}
