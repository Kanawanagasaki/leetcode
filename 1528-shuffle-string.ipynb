{
 "cells": [
  {
   "cell_type": "markdown",
   "metadata": {},
   "source": [
    "[1528. Shuffle String](https://leetcode.com/problems/shuffle-string/)"
   ]
  },
  {
   "cell_type": "code",
   "execution_count": null,
   "metadata": {},
   "outputs": [],
   "source": [
    "public class Solution {\n",
    "    public string RestoreString(string s, int[] indices) \n",
    "        => new string(indices.Select((v,i) => (v,i)).OrderBy(a => a.Item1).Select(a => s[a.Item2]).ToArray());\n",
    "}"
   ]
  }
 ],
 "metadata": {
  "language_info": {
   "name": "csharp"
  },
  "orig_nbformat": 4
 },
 "nbformat": 4,
 "nbformat_minor": 2
}
